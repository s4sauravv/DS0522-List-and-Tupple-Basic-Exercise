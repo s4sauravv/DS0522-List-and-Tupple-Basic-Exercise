{
 "cells": [
  {
   "cell_type": "code",
   "execution_count": null,
   "id": "5459bd52",
   "metadata": {},
   "outputs": [],
   "source": [
    "#Exercise Of List and Tuple.\n",
    "#Student of Data Science\n"
   ]
  },
  {
   "cell_type": "code",
   "execution_count": 2,
   "id": "76ae5a97",
   "metadata": {},
   "outputs": [
    {
     "name": "stdout",
     "output_type": "stream",
     "text": [
      "Enter Fruit Name Mango\n",
      "Enter Fruit Name Apple\n",
      "Enter Fruit Name Kiwi\n",
      "Enter Fruit Name Guava\n",
      "Enter Fruit Name Coconut\n",
      "Enter Fruit Name Orange\n",
      "Enter Fruit Name watermelon\n",
      "['Mango', 'Apple', 'Kiwi', 'Guava', 'Coconut', 'Orange', 'watermelon']\n"
     ]
    }
   ],
   "source": [
    "#Question 1 - Write a program to store 7 fruits name in a list entered by a user.\n",
    "\n",
    "#Solutin\n",
    "\n",
    "f1=input(\"Enter Fruit Name \")\n",
    "f2=input(\"Enter Fruit Name \")\n",
    "f3=input(\"Enter Fruit Name \")\n",
    "f4=input(\"Enter Fruit Name \")\n",
    "f5=input(\"Enter Fruit Name \")\n",
    "f6=input(\"Enter Fruit Name \")\n",
    "f7=input(\"Enter Fruit Name \")\n",
    "\n",
    "lst=[f1,f2,f3,f4,f5,f6,f7]\n",
    "print(lst)"
   ]
  },
  {
   "cell_type": "code",
   "execution_count": 3,
   "id": "effe1101",
   "metadata": {},
   "outputs": [
    {
     "name": "stdout",
     "output_type": "stream",
     "text": [
      "Enter your marks89\n",
      "Enter your marks98\n",
      "Enter your marks56\n",
      "Enter your marks78\n",
      "Enter your marks78\n",
      "Enter your marks65\n",
      "['56', '65', '78', '78', '89', '98']\n"
     ]
    }
   ],
   "source": [
    "#Question 2 -  Write a program to accept marks of 6 students and display them in a scorted manner.\n",
    "\n",
    "\n",
    "#Solution:\n",
    "\n",
    "\n",
    "m1=input(\"Enter your marks\")\n",
    "m2=input(\"Enter your marks\")\n",
    "m3=input(\"Enter your marks\")\n",
    "m4=input(\"Enter your marks\")\n",
    "m5=input(\"Enter your marks\")\n",
    "m6=input(\"Enter your marks\")\n",
    "\n",
    "marks=[m1,m2,m3,m4,m5,m6]\n",
    "marks.sort()\n",
    "print(marks)"
   ]
  },
  {
   "cell_type": "code",
   "execution_count": 9,
   "id": "f3c07ac0",
   "metadata": {},
   "outputs": [],
   "source": [
    "#Question 3 - Check that a tupple cannot be changed in python.\n",
    "\n",
    "#Solution\n",
    "\n",
    "tup=('saurav','gaurav','ramesh')\n"
   ]
  },
  {
   "cell_type": "code",
   "execution_count": 10,
   "id": "a568a053",
   "metadata": {},
   "outputs": [
    {
     "data": {
      "text/plain": [
       "tuple"
      ]
     },
     "execution_count": 10,
     "metadata": {},
     "output_type": "execute_result"
    }
   ],
   "source": [
    "type(tup)"
   ]
  },
  {
   "cell_type": "code",
   "execution_count": 1,
   "id": "6ea7da9b",
   "metadata": {},
   "outputs": [
    {
     "ename": "NameError",
     "evalue": "name 'tup' is not defined",
     "output_type": "error",
     "traceback": [
      "\u001b[1;31m---------------------------------------------------------------------------\u001b[0m",
      "\u001b[1;31mNameError\u001b[0m                                 Traceback (most recent call last)",
      "Input \u001b[1;32mIn [1]\u001b[0m, in \u001b[0;36m<cell line: 1>\u001b[1;34m()\u001b[0m\n\u001b[1;32m----> 1\u001b[0m \u001b[43mtup\u001b[49m[\u001b[38;5;241m0\u001b[39m]\u001b[38;5;241m=\u001b[39m\u001b[38;5;124m'\u001b[39m\u001b[38;5;124mYashu\u001b[39m\u001b[38;5;124m'\u001b[39m\n",
      "\u001b[1;31mNameError\u001b[0m: name 'tup' is not defined"
     ]
    }
   ],
   "source": [
    "tup[0]='Yashu'"
   ]
  },
  {
   "cell_type": "code",
   "execution_count": 2,
   "id": "92b9c1b8",
   "metadata": {},
   "outputs": [
    {
     "data": {
      "text/plain": [
       "3"
      ]
     },
     "execution_count": 2,
     "metadata": {},
     "output_type": "execute_result"
    }
   ],
   "source": [
    "#Question 4 - Write a program a count the number of zeros in the following.\n",
    "#    a = (7, 0, 8, 0, 0, 9)\n",
    "\n",
    "#Solution-\n",
    "\n",
    "a = (7, 0, 8, 0, 0, 9)\n",
    "a.count(0)"
   ]
  },
  {
   "cell_type": "code",
   "execution_count": 3,
   "id": "3b7d2f5a",
   "metadata": {},
   "outputs": [],
   "source": [
    "#Question 5 - Write a python program to sum a list with 4 number ..\n",
    "\n",
    "#Solution\n",
    "\n",
    "\n",
    "c\n",
    "sum=a[0]+a[1]+a[2]+a[3]"
   ]
  },
  {
   "cell_type": "code",
   "execution_count": 5,
   "id": "21e8dffe",
   "metadata": {},
   "outputs": [
    {
     "data": {
      "text/plain": [
       "22"
      ]
     },
     "execution_count": 5,
     "metadata": {},
     "output_type": "execute_result"
    }
   ],
   "source": [
    "sum"
   ]
  },
  {
   "cell_type": "code",
   "execution_count": 11,
   "id": "2dc9abf5",
   "metadata": {},
   "outputs": [
    {
     "name": "stdout",
     "output_type": "stream",
     "text": [
      "22\n"
     ]
    }
   ],
   "source": [
    "#See another way\n",
    "\n",
    "a=[2,8,9,3]\n",
    "print(sum)"
   ]
  },
  {
   "cell_type": "code",
   "execution_count": null,
   "id": "c1dbb0eb",
   "metadata": {},
   "outputs": [],
   "source": [
    "#Basic Execise of Tuple and list\n",
    "#Student of DataTrained- Saurav\n",
    "#Data Scientist to be..\n",
    "#Date-17-June-2022"
   ]
  }
 ],
 "metadata": {
  "kernelspec": {
   "display_name": "Python 3 (ipykernel)",
   "language": "python",
   "name": "python3"
  },
  "language_info": {
   "codemirror_mode": {
    "name": "ipython",
    "version": 3
   },
   "file_extension": ".py",
   "mimetype": "text/x-python",
   "name": "python",
   "nbconvert_exporter": "python",
   "pygments_lexer": "ipython3",
   "version": "3.9.12"
  }
 },
 "nbformat": 4,
 "nbformat_minor": 5
}
